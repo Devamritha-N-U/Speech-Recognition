{
 "cells": [
  {
   "cell_type": "code",
   "execution_count": null,
   "metadata": {},
   "outputs": [],
   "source": [
    "#packages installed\n",
    "#pip install SpeechRegonition\n",
    "#pip install pyaudio  #audio signals"
   ]
  },
  {
   "cell_type": "code",
   "execution_count": 8,
   "metadata": {},
   "outputs": [
    {
     "name": "stdout",
     "output_type": "stream",
     "text": [
      "speak...\n",
      "You said.. hello hello\n"
     ]
    }
   ],
   "source": [
    "import speech_recognition as sr\n",
    "def speech_recog():\n",
    "    r=sr.Recognizer()\n",
    "    mic=sr.Microphone()\n",
    "    with mic as source:\n",
    "        print(\"speak...\")\n",
    "        r.energy_threshold=50\n",
    "        r.adjust_for_ambient_noise(source,duration=2)\n",
    "        audio=r.listen(source)\n",
    "\n",
    "        try:\n",
    "            text=r.recognize_google(audio)\n",
    "            print(\"You said..\",text)\n",
    "        except:\n",
    "            print(\"Didn't here anything. pls speak again...\")\n",
    "speech_recog()                "
   ]
  }
 ],
 "metadata": {
  "kernelspec": {
   "display_name": "Python 3",
   "language": "python",
   "name": "python3"
  },
  "language_info": {
   "codemirror_mode": {
    "name": "ipython",
    "version": 3
   },
   "file_extension": ".py",
   "mimetype": "text/x-python",
   "name": "python",
   "nbconvert_exporter": "python",
   "pygments_lexer": "ipython3",
   "version": "3.11.7"
  }
 },
 "nbformat": 4,
 "nbformat_minor": 2
}
